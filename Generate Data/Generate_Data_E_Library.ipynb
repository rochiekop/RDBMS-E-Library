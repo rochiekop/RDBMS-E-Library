{
  "nbformat": 4,
  "nbformat_minor": 0,
  "metadata": {
    "colab": {
      "provenance": []
    },
    "kernelspec": {
      "name": "python3",
      "display_name": "Python 3"
    }
  },
  "cells": [
    {
      "cell_type": "markdown",
      "source": [
        "# GENERATE DATA USING FAKER"
      ],
      "metadata": {
        "id": "yswX8sEM3vOZ"
      }
    },
    {
      "cell_type": "markdown",
      "source": [
        "[Faker](https://faker.readthedocs.io/en/master/)"
      ],
      "metadata": {
        "id": "w_xCphTe4pR2"
      }
    },
    {
      "cell_type": "code",
      "source": [
        "# install library faker\n",
        "!pip install faker"
      ],
      "metadata": {
        "colab": {
          "base_uri": "https://localhost:8080/"
        },
        "id": "X9M4Q81V31sv",
        "outputId": "3e5a5528-875d-4ac4-b67c-78ced9172f89"
      },
      "execution_count": 1,
      "outputs": [
        {
          "output_type": "stream",
          "name": "stdout",
          "text": [
            "Collecting faker\n",
            "  Downloading Faker-30.8.2-py3-none-any.whl.metadata (15 kB)\n",
            "Requirement already satisfied: python-dateutil>=2.4 in /usr/local/lib/python3.10/dist-packages (from faker) (2.8.2)\n",
            "Requirement already satisfied: typing-extensions in /usr/local/lib/python3.10/dist-packages (from faker) (4.12.2)\n",
            "Requirement already satisfied: six>=1.5 in /usr/local/lib/python3.10/dist-packages (from python-dateutil>=2.4->faker) (1.16.0)\n",
            "Downloading Faker-30.8.2-py3-none-any.whl (1.8 MB)\n",
            "\u001b[2K   \u001b[90m━━━━━━━━━━━━━━━━━━━━━━━━━━━━━━━━━━━━━━━━\u001b[0m \u001b[32m1.8/1.8 MB\u001b[0m \u001b[31m14.3 MB/s\u001b[0m eta \u001b[36m0:00:00\u001b[0m\n",
            "\u001b[?25hInstalling collected packages: faker\n",
            "Successfully installed faker-30.8.2\n"
          ]
        }
      ]
    },
    {
      "cell_type": "code",
      "source": [
        "# import library faker\n",
        "from faker import Faker"
      ],
      "metadata": {
        "id": "Bcfip-DL4QBO"
      },
      "execution_count": 2,
      "outputs": []
    },
    {
      "cell_type": "code",
      "source": [
        "fake = Faker()\n",
        "name = fake.name()\n",
        "address = fake.address()\n",
        "print(name)\n",
        "print(address)"
      ],
      "metadata": {
        "colab": {
          "base_uri": "https://localhost:8080/"
        },
        "id": "ItrzZF184VCb",
        "outputId": "e2853735-d3e2-4cd9-e465-713f777e2ef4"
      },
      "execution_count": 6,
      "outputs": [
        {
          "output_type": "stream",
          "name": "stdout",
          "text": [
            "Danielle Smith\n",
            "44283 Santos Highway Apt. 021\n",
            "Austinside, WY 21146\n"
          ]
        }
      ]
    },
    {
      "cell_type": "code",
      "source": [
        "# Example set of spain\n",
        "fake_es = Faker('es_ES')\n",
        "name = fake_es.name()\n",
        "address = fake_es.address()\n",
        "print(f\"Name : {name}, Address {address}\")"
      ],
      "metadata": {
        "colab": {
          "base_uri": "https://localhost:8080/"
        },
        "id": "p_10VymT496q",
        "outputId": "bd4a6651-2904-46a1-bc66-2c8db13e7661"
      },
      "execution_count": 8,
      "outputs": [
        {
          "output_type": "stream",
          "name": "stdout",
          "text": [
            "Name : Alfredo Morán, Address Ronda de Cleto Orozco 87 Apt. 19 \n",
            "Palencia, 40547\n"
          ]
        }
      ]
    },
    {
      "cell_type": "code",
      "source": [
        "# LOCALIZATION ID\n",
        "fake_id = Faker('id_ID')\n",
        "name = fake_id.name()\n",
        "address = fake_id.address()\n",
        "print(name)\n",
        "print(address)"
      ],
      "metadata": {
        "colab": {
          "base_uri": "https://localhost:8080/"
        },
        "id": "BwyoGHbQ5VFP",
        "outputId": "ba6f95b1-0d1e-4cd6-a0eb-4f20cd61e9b6"
      },
      "execution_count": 9,
      "outputs": [
        {
          "output_type": "stream",
          "name": "stdout",
          "text": [
            "Puti Zizi Waskita\n",
            "Gang Stasiun Wonokromo No. 110\n",
            "Gorontalo, SG 84905\n"
          ]
        }
      ]
    },
    {
      "cell_type": "markdown",
      "source": [
        "## Relation One - One"
      ],
      "metadata": {
        "id": "zDbZcz766iRg"
      }
    },
    {
      "cell_type": "markdown",
      "source": [
        "### **Table Customers**"
      ],
      "metadata": {
        "id": "nsqrbkiB60L7"
      }
    },
    {
      "cell_type": "code",
      "source": [
        "%pip install tabulate"
      ],
      "metadata": {
        "colab": {
          "base_uri": "https://localhost:8080/"
        },
        "id": "ekyl4INY_iwc",
        "outputId": "cbc01c2d-5cdb-43f5-8f09-31e70ea85bba"
      },
      "execution_count": 34,
      "outputs": [
        {
          "output_type": "stream",
          "name": "stdout",
          "text": [
            "Requirement already satisfied: tabulate in /usr/local/lib/python3.10/dist-packages (0.9.0)\n"
          ]
        }
      ]
    },
    {
      "cell_type": "code",
      "source": [
        "from datetime import datetime\n",
        "from tabulate import tabulate\n",
        "import random"
      ],
      "metadata": {
        "id": "6aUAXiA08hTU"
      },
      "execution_count": 57,
      "outputs": []
    },
    {
      "cell_type": "code",
      "source": [
        "# set localization Indonesia\n",
        "FAKER = Faker('id_ID')"
      ],
      "metadata": {
        "id": "s5XGDHS783kg"
      },
      "execution_count": 20,
      "outputs": []
    },
    {
      "cell_type": "code",
      "source": [
        "def show_data(table):\n",
        "    \"\"\"\n",
        "    Function to display data\n",
        "\n",
        "    arg:\n",
        "        - table (dict) :  dictionary data that will displays\n",
        "\n",
        "    return:\n",
        "        None\n",
        "    \"\"\"\n",
        "\n",
        "    tab = tabulate(tabular_data = table,\n",
        "                   headers = table.keys(),\n",
        "                   tablefmt = \"psql\",\n",
        "                   numalign = \"center\")\n",
        "    print(tab)"
      ],
      "metadata": {
        "id": "LSn4SdFM7Feh"
      },
      "execution_count": 31,
      "outputs": []
    },
    {
      "cell_type": "code",
      "source": [
        "def users_table(n_cust, is_print):\n",
        "    \"\"\"\n",
        "    function to create dummy data user table\n",
        "    header:\n",
        "        - id,created_date, username, fullname, gender, email, no_telephone, address, is_admin, created_by\n",
        "\n",
        "    arg:\n",
        "        - n_cust (int)  : number of total data\n",
        "        - is_print  (bool) : to display the result data\n",
        "\n",
        "    return:\n",
        "        - table  (list) :\n",
        "    \"\"\"\n",
        "    # create table\n",
        "    table = {}\n",
        "    table[\"id\"] = [i+1 for i in range(n_cust)]\n",
        "    table[\"created_date\"] = [datetime.now() for i in range(n_cust)]\n",
        "    table[\"username\"] = [FAKER.simple_profile()['username'] for i in range(n_cust)]\n",
        "    table[\"fullname\"] = [FAKER.simple_profile()['name'] for i in range(n_cust)]\n",
        "    table[\"gender\"] = [FAKER.simple_profile()['sex'] for i in range(n_cust)]\n",
        "    table[\"email\"] = [FAKER.simple_profile()['mail'] for i in range(n_cust)]\n",
        "    table[\"no_telephone\"] = [str(FAKER.phone_number()) for i in range(n_cust)]\n",
        "    table[\"address\"] = [FAKER.simple_profile()['address'] for i in range(n_cust)]\n",
        "    table[\"is_admin\"] = [False for i in range(n_cust)]\n",
        "    table[\"created_by\"] = [1 for i in range(n_cust)]\n",
        "    # Print table\n",
        "    if is_print:\n",
        "        show_data(table)\n",
        "\n",
        "    return table"
      ],
      "metadata": {
        "id": "HlJaE-KU7a2s"
      },
      "execution_count": 47,
      "outputs": []
    },
    {
      "cell_type": "code",
      "source": [
        "# create data table users\n",
        "users = users_table(n_cust = 30,is_print = True)"
      ],
      "metadata": {
        "colab": {
          "base_uri": "https://localhost:8080/"
        },
        "id": "FbtJoEB4-tJm",
        "outputId": "b5972245-b5e2-434a-9ae4-0962e8b1f26d"
      },
      "execution_count": 116,
      "outputs": [
        {
          "output_type": "stream",
          "name": "stdout",
          "text": [
            "+------+----------------------------+-------------------+-------------------------------+----------+-------------------------------+---------------------+-------------------------------------------+------------+--------------+\n",
            "|  id  | created_date               | username          | fullname                      | gender   | email                         | no_telephone        | address                                   | is_admin   |  created_by  |\n",
            "|------+----------------------------+-------------------+-------------------------------+----------+-------------------------------+---------------------+-------------------------------------------+------------+--------------|\n",
            "|  1   | 2024-11-10 04:54:21.996496 | cindy41           | Ida Safitri                   | F        | asuryono@gmail.com            | +62-0835-238-7994   | Jalan Jamika No. 09                       | False      |      1       |\n",
            "|      |                            |                   |                               |          |                               |                     | Bima, BA 10648                            |            |              |\n",
            "|  2   | 2024-11-10 04:54:21.996500 | harsanto84        | R.M. Nardi Manullang, S.I.Kom | M        | hsuwarno@yahoo.com            | +62-089-037-2036    | Jl. Rajawali Barat No. 83                 | False      |      1       |\n",
            "|      |                            |                   |                               |          |                               |                     | Kota Administrasi Jakarta Utara, GO 95803 |            |              |\n",
            "|  3   | 2024-11-10 04:54:21.996500 | marganakusmawati  | Puti Aisyah Rahimah, S.E.     | M        | ibrani32@hotmail.com          | (0570) 120 2024     | Gang Pacuan Kuda No. 55                   | False      |      1       |\n",
            "|      |                            |                   |                               |          |                               |                     | Langsa, Maluku 63432                      |            |              |\n",
            "|  4   | 2024-11-10 04:54:21.996501 | csaragih          | Safina Melani, M.Kom.         | F        | tarifarida@yahoo.com          | (015) 163 2500      | Jl. Cikutra Barat No. 9                   | False      |      1       |\n",
            "|      |                            |                   |                               |          |                               |                     | Padang, Nusa Tenggara Timur 18363         |            |              |\n",
            "|  5   | 2024-11-10 04:54:21.996502 | panduhidayat      | Kayun Habibi, S.E.            | M        | fdongoran@yahoo.com           | +62-0495-691-4402   | Jl. Raya Setiabudhi No. 183               | False      |      1       |\n",
            "|      |                            |                   |                               |          |                               |                     | Manado, Jawa Tengah 33563                 |            |              |\n",
            "|  6   | 2024-11-10 04:54:21.996503 | daliman26         | Carla Winarno                 | F        | eko51@yahoo.com               | +62 (0301) 855-2285 | Jl. Cihampelas No. 746                    | False      |      1       |\n",
            "|      |                            |                   |                               |          |                               |                     | Sawahlunto, JI 93286                      |            |              |\n",
            "|  7   | 2024-11-10 04:54:21.996504 | tarihoranjagaraga | Ayu Dabukke                   | M        | damanikmarwata@yahoo.com      | (0642) 592-9838     | Gg. Rumah Sakit No. 474                   | False      |      1       |\n",
            "|      |                            |                   |                               |          |                               |                     | Magelang, Maluku Utara 04287              |            |              |\n",
            "|  8   | 2024-11-10 04:54:21.996504 | auwais            | Dr. Intan Prakasa, S.Ked      | F        | lamar32@hotmail.com           | 0834821364          | Jl. Sukajadi No. 090                      | False      |      1       |\n",
            "|      |                            |                   |                               |          |                               |                     | Padangpanjang, Sulawesi Utara 60469       |            |              |\n",
            "|  9   | 2024-11-10 04:54:21.996505 | wastutinasab      | Cawuk Waskita                 | F        | ldongoran@yahoo.com           | +62 (896) 109-0769  | Jalan Bangka Raya No. 2                   | False      |      1       |\n",
            "|      |                            |                   |                               |          |                               |                     | Manado, Banten 02893                      |            |              |\n",
            "|  10  | 2024-11-10 04:54:21.996506 | cagakzulaika      | drg. Jaya Prasetyo, S.IP      | M        | karja21@yahoo.com             | +62 (0245) 573 0442 | Jl. Kapten Muslihat No. 606               | False      |      1       |\n",
            "|      |                            |                   |                               |          |                               |                     | Pematangsiantar, Kalimantan Barat 07838   |            |              |\n",
            "|  11  | 2024-11-10 04:54:21.996507 | hassanahbahuraksa | Bahuraksa Astuti              | M        | baktiadilailasari@hotmail.com | 089 278 5365        | Gang Pelajar Pejuang No. 57               | False      |      1       |\n",
            "|      |                            |                   |                               |          |                               |                     | Kediri, JA 73384                          |            |              |\n",
            "|  12  | 2024-11-10 04:54:21.996508 | permatadartono    | Tgk. Among Mansur             | F        | kaniajanuar@yahoo.com         | (034) 393 4662      | Jl. Ciwastra No. 647                      | False      |      1       |\n",
            "|      |                            |                   |                               |          |                               |                     | Gorontalo, MA 13721                       |            |              |\n",
            "|  13  | 2024-11-10 04:54:21.996509 | agustinalamar     | Irma Kusmawati                | F        | warsita05@gmail.com           | +62 (066) 551-9494  | Gang Rajiman No. 58                       | False      |      1       |\n",
            "|      |                            |                   |                               |          |                               |                     | Padangpanjang, Maluku 38734               |            |              |\n",
            "|  14  | 2024-11-10 04:54:21.996509 | wastutibaktianto  | R. Ozy Wacana, S.H.           | M        | saadat49@hotmail.com          | +62 (02) 855 2199   | Jl. Tebet Barat Dalam No. 49              | False      |      1       |\n",
            "|      |                            |                   |                               |          |                               |                     | Padangpanjang, Kalimantan Tengah 37699    |            |              |\n",
            "|  15  | 2024-11-10 04:54:21.996510 | surya89           | Vanesa Saputra                | M        | krahimah@gmail.com            | (0274) 694 6350     | Jalan Soekarno Hatta No. 94               | False      |      1       |\n",
            "|      |                            |                   |                               |          |                               |                     | Kotamobagu, Lampung 59092                 |            |              |\n",
            "|  16  | 2024-11-10 04:54:21.996511 | damu37            | Vivi Siregar                  | F        | rini80@gmail.com              | +62-142-966-8207    | Jl. Jamika No. 69                         | False      |      1       |\n",
            "|      |                            |                   |                               |          |                               |                     | Sabang, RI 52592                          |            |              |\n",
            "|  17  | 2024-11-10 04:54:21.996512 | pnarpati          | Rahmi Siregar                 | F        | sardianto@hotmail.com         | +62-316-937-4493    | Jl. M.H Thamrin No. 89                    | False      |      1       |\n",
            "|      |                            |                   |                               |          |                               |                     | Makassar, Kepulauan Bangka Belitung 57902 |            |              |\n",
            "|  18  | 2024-11-10 04:54:21.996513 | jinawi95          | Yessi Nashiruddin, S.H.       | F        | fsirait@gmail.com             | 088 259 7038        | Gang Monginsidi No. 541                   | False      |      1       |\n",
            "|      |                            |                   |                               |          |                               |                     | Meulaboh, JT 85337                        |            |              |\n",
            "|  19  | 2024-11-10 04:54:21.996513 | imam56            | Tgk. Ridwan Nasyidah          | M        | hani09@yahoo.com              | +62 (0666) 467 8797 | Jalan Indragiri No. 27                    | False      |      1       |\n",
            "|      |                            |                   |                               |          |                               |                     | Blitar, DI Yogyakarta 73128               |            |              |\n",
            "|  20  | 2024-11-10 04:54:21.996514 | taliathamrin      | Puti Ratna Habibi, M.Ak       | F        | quyainah@yahoo.com            | (075) 667-3149      | Jl. Gedebage Selatan No. 204              | False      |      1       |\n",
            "|      |                            |                   |                               |          |                               |                     | Tegal, Kalimantan Barat 21338             |            |              |\n",
            "|  21  | 2024-11-10 04:54:21.996515 | banawawinarno     | Dagel Nasyiah                 | M        | prakasanajib@yahoo.com        | +62 (337) 189-9315  | Jl. Cikapayang No. 2                      | False      |      1       |\n",
            "|      |                            |                   |                               |          |                               |                     | Prabumulih, BT 54932                      |            |              |\n",
            "|  22  | 2024-11-10 04:54:21.996516 | lmayasari         | Dalima Nuraini, S.Sos         | F        | prasetyaganda@hotmail.com     | +62 (63) 924 8404   | Jl. Gegerkalong Hilir No. 5               | False      |      1       |\n",
            "|      |                            |                   |                               |          |                               |                     | Surabaya, Kalimantan Selatan 02557        |            |              |\n",
            "|  23  | 2024-11-10 04:54:21.996516 | budimanhendri     | Ayu Hutasoit                  | M        | lhassanah@yahoo.com           | +62-0838-096-7359   | Jl. Monginsidi No. 1                      | False      |      1       |\n",
            "|      |                            |                   |                               |          |                               |                     | Bandung, Papua Barat 25434                |            |              |\n",
            "|  24  | 2024-11-10 04:54:21.996517 | clestari          | R. Carub Lazuardi, S.IP       | M        | wijayantigaman@gmail.com      | +62-002-627-2199    | Gg. Medokan Ayu No. 16                    | False      |      1       |\n",
            "|      |                            |                   |                               |          |                               |                     | Tarakan, JA 77592                         |            |              |\n",
            "|  25  | 2024-11-10 04:54:21.996518 | gunawancakrabuana | Gamblang Tarihoran, M.Pd      | F        | rahayu91@hotmail.com          | +62-52-553-4059     | Gg. Moch. Toha No. 1                      | False      |      1       |\n",
            "|      |                            |                   |                               |          |                               |                     | Probolinggo, KU 65155                     |            |              |\n",
            "|  26  | 2024-11-10 04:54:21.996519 | ipradipta         | Hj. Tiara Nashiruddin, S.Psi  | M        | radityasitumorang@yahoo.com   | 0885432375          | Gg. Gardujati No. 745                     | False      |      1       |\n",
            "|      |                            |                   |                               |          |                               |                     | Tanjungbalai, KS 41073                    |            |              |\n",
            "|  27  | 2024-11-10 04:54:21.996520 | teddy09           | dr. Samiah Pranowo, S.E.I     | F        | keziasaefullah@hotmail.com    | (074) 435 8688      | Jalan Veteran No. 063                     | False      |      1       |\n",
            "|      |                            |                   |                               |          |                               |                     | Madiun, Bengkulu 28203                    |            |              |\n",
            "|  28  | 2024-11-10 04:54:21.996521 | purwantohassanah  | Puti Lalita Uwais, S.E.       | M        | ysaputra@hotmail.com          | +62 (852) 402-2676  | Jalan W.R. Supratman No. 691              | False      |      1       |\n",
            "|      |                            |                   |                               |          |                               |                     | Tanjungpinang, JB 86256                   |            |              |\n",
            "|  29  | 2024-11-10 04:54:21.996521 | pardi71           | Gasti Sitorus                 | F        | upradipta@yahoo.com           | +62 (488) 736 3236  | Gang Ir. H. Djuanda No. 988               | False      |      1       |\n",
            "|      |                            |                   |                               |          |                               |                     | Jayapura, KU 31440                        |            |              |\n",
            "|  30  | 2024-11-10 04:54:21.996522 | hsihombing        | R.M. Jarwa Uyainah            | F        | oadriansyah@hotmail.com       | +62 (015) 572-5595  | Gg. Lembong No. 5                         | False      |      1       |\n",
            "|      |                            |                   |                               |          |                               |                     | Medan, DI Yogyakarta 82796                |            |              |\n",
            "+------+----------------------------+-------------------+-------------------------------+----------+-------------------------------+---------------------+-------------------------------------------+------------+--------------+\n"
          ]
        }
      ]
    },
    {
      "cell_type": "code",
      "source": [
        "table_categories = {\n",
        "    \"id\" : [1,2,3,4,5,6,7,8],\n",
        "    \"created_date\" : [datetime.now()]*8,\n",
        "    \"name\" : [\"Fiction\", \"Non-Fiction\",\"Science Fiction\",\"Fantasy\",\"Mystery\",\"Biography\",\"Romance\",\"Historical\"],\n",
        "    \"created_by\": [1]*8\n",
        "}\n",
        "show_data(table_categories)"
      ],
      "metadata": {
        "colab": {
          "base_uri": "https://localhost:8080/"
        },
        "id": "4ghaxkhuTXzk",
        "outputId": "49f3f694-42f5-44a7-f2d9-d41f160d649e"
      },
      "execution_count": 93,
      "outputs": [
        {
          "output_type": "stream",
          "name": "stdout",
          "text": [
            "+------+----------------------------+-----------------+--------------+\n",
            "|  id  | created_date               | name            |  created_by  |\n",
            "|------+----------------------------+-----------------+--------------|\n",
            "|  1   | 2024-11-10 04:24:56.101646 | Fiction         |      1       |\n",
            "|  2   | 2024-11-10 04:24:56.101646 | Non-Fiction     |      1       |\n",
            "|  3   | 2024-11-10 04:24:56.101646 | Science Fiction |      1       |\n",
            "|  4   | 2024-11-10 04:24:56.101646 | Fantasy         |      1       |\n",
            "|  5   | 2024-11-10 04:24:56.101646 | Mystery         |      1       |\n",
            "|  6   | 2024-11-10 04:24:56.101646 | Biography       |      1       |\n",
            "|  7   | 2024-11-10 04:24:56.101646 | Romance         |      1       |\n",
            "|  8   | 2024-11-10 04:24:56.101646 | Historical      |      1       |\n",
            "+------+----------------------------+-----------------+--------------+\n"
          ]
        }
      ]
    },
    {
      "cell_type": "code",
      "source": [
        "def publishers_table(n_data, is_print):\n",
        "    publisher = {\n",
        "        \"id\" :  [i+1 for i in range(n_data)],\n",
        "        \"created_date\" : [datetime.now()]*n_data,\n",
        "        \"name\": [FAKER.company() for i in range(n_data)],\n",
        "        \"address\":[FAKER.simple_profile()['address'] for i in range(n_data)],\n",
        "        \"created_by\" : [1]*n_data\n",
        "    }\n",
        "\n",
        "    # Print table\n",
        "    if is_print:\n",
        "        show_data(publisher)\n",
        "\n",
        "    return publisher\n",
        "\n",
        "\n",
        "\n",
        "publishers = publishers_table(n_data = 10,is_print = True)"
      ],
      "metadata": {
        "colab": {
          "base_uri": "https://localhost:8080/"
        },
        "id": "OPDfUiJFUaun",
        "outputId": "6dca804b-8e6f-4b3b-ebac-dc1959f12761"
      },
      "execution_count": 99,
      "outputs": [
        {
          "output_type": "stream",
          "name": "stdout",
          "text": [
            "+------+----------------------------+-----------------------------------------+---------------------------------------+--------------+\n",
            "|  id  | created_date               | name                                    | address                               |  created_by  |\n",
            "|------+----------------------------+-----------------------------------------+---------------------------------------+--------------|\n",
            "|  1   | 2024-11-10 04:32:52.342903 | PT Januar (Persero) Tbk                 | Jl. Jend. A. Yani No. 38              |      1       |\n",
            "|      |                            |                                         | Tebingtinggi, RI 52259                |              |\n",
            "|  2   | 2024-11-10 04:32:52.342903 | PT Suwarno Tbk                          | Jl. Ciwastra No. 7                    |      1       |\n",
            "|      |                            |                                         | Pontianak, Gorontalo 96692            |              |\n",
            "|  3   | 2024-11-10 04:32:52.342903 | PT Pudjiastuti Novitasari (Persero) Tbk | Jl. Jayawijaya No. 511                |      1       |\n",
            "|      |                            |                                         | Subulussalam, NT 21509                |              |\n",
            "|  4   | 2024-11-10 04:32:52.342903 | Perum Usada                             | Jl. M.H Thamrin No. 725               |      1       |\n",
            "|      |                            |                                         | Padang Sidempuan, Bali 81844          |              |\n",
            "|  5   | 2024-11-10 04:32:52.342903 | PT Widodo Palastri (Persero) Tbk        | Jl. Cihampelas No. 071                |      1       |\n",
            "|      |                            |                                         | Tual, Kepulauan Bangka Belitung 42256 |              |\n",
            "|  6   | 2024-11-10 04:32:52.342903 | PT Hutasoit Oktaviani                   | Gang Rawamangun No. 7                 |      1       |\n",
            "|      |                            |                                         | Langsa, Papua Barat 88137             |              |\n",
            "|  7   | 2024-11-10 04:32:52.342903 | CV Widodo Utama Tbk                     | Jl. Jend. Sudirman No. 84             |      1       |\n",
            "|      |                            |                                         | Bekasi, SU 35631                      |              |\n",
            "|  8   | 2024-11-10 04:32:52.342903 | Perum Firmansyah Tbk                    | Jl. Stasiun Wonokromo No. 95          |      1       |\n",
            "|      |                            |                                         | Tanjungpinang, SU 94937               |              |\n",
            "|  9   | 2024-11-10 04:32:52.342903 | UD Iswahyudi Nababan                    | Jl. Cikutra Timur No. 43              |      1       |\n",
            "|      |                            |                                         | Singkawang, SB 83619                  |              |\n",
            "|  10  | 2024-11-10 04:32:52.342903 | UD Lazuardi Mandasari                   | Jl. R.E Martadinata No. 733           |      1       |\n",
            "|      |                            |                                         | Prabumulih, SN 32713                  |              |\n",
            "+------+----------------------------+-----------------------------------------+---------------------------------------+--------------+\n"
          ]
        }
      ]
    },
    {
      "cell_type": "code",
      "source": [
        "def books_table(n_data, is_print):\n",
        "    \"\"\"\n",
        "    function to create dummy data books table\n",
        "    header:\n",
        "        - id,created_date, title, catgory_id, pulisher_id, year, description,created_by\n",
        "\n",
        "    arg:\n",
        "        - n_data (int)  : number of total data\n",
        "        - is_print  (bool) : to display the result data\n",
        "\n",
        "    return:\n",
        "        - table  (list) :\n",
        "    \"\"\"\n",
        "    # create table\n",
        "    table = {}\n",
        "    table[\"id\"] = [i+1 for i in range(n_data)]\n",
        "    table[\"created_date\"] = [datetime.now() for i in range(n_data)]\n",
        "    table[\"title\"] = [FAKER.sentence(nb_words=3) for i in range(n_data)]\n",
        "    table[\"category_id\"] = [random.choice(table_categories['id']) for i in range(n_data)]\n",
        "    table[\"publisher_id\"] =  [random.choice(publishers['id']) for i in range(n_data)]\n",
        "    table[\"year\"] = [FAKER.year() for i in range(n_data)]\n",
        "    table[\"address\"] = [FAKER.simple_profile()['address'] for i in range(n_data)]\n",
        "    table[\"description\"] = [FAKER.sentence(nb_words=10) for i in range(n_data)]\n",
        "    table[\"created_by\"] = [1 for i in range(n_data)]\n",
        "    # Print table\n",
        "    if is_print:\n",
        "        show_data(table)\n",
        "\n",
        "    return table"
      ],
      "metadata": {
        "id": "6XgTQ1QRRsF4"
      },
      "execution_count": 101,
      "outputs": []
    },
    {
      "cell_type": "code",
      "source": [
        "books = books_table(n_data = 10,is_print = True)"
      ],
      "metadata": {
        "colab": {
          "base_uri": "https://localhost:8080/"
        },
        "id": "LNmOqPeWTRMJ",
        "outputId": "ece5a1eb-dfec-4278-8d4e-c22066d37075"
      },
      "execution_count": 102,
      "outputs": [
        {
          "output_type": "stream",
          "name": "stdout",
          "text": [
            "+------+----------------------------+-----------------------------------+---------------+----------------+--------+------------------------------------------------------+-------------------------------------------------------------------------------------------+--------------+\n",
            "|  id  | created_date               | title                             |  category_id  |  publisher_id  |  year  | address                                              | description                                                                               |  created_by  |\n",
            "|------+----------------------------+-----------------------------------+---------------+----------------+--------+------------------------------------------------------+-------------------------------------------------------------------------------------------+--------------|\n",
            "|  1   | 2024-11-10 04:35:23.192977 | Ducimus.                          |       1       |       4        |  1991  | Jl. Gardujati No. 8                                  | Iure ad ducimus nihil magnam excepturi nulla consequatur corrupti eius.                   |      1       |\n",
            "|      |                            |                                   |               |                |        | Kota Administrasi Jakarta Barat, DI Yogyakarta 70420 |                                                                                           |              |\n",
            "|  2   | 2024-11-10 04:35:23.192980 | Voluptatum unde.                  |       3       |       7        |  2009  | Gg. Gedebage Selatan No. 404                         | In et quia sapiente corrupti tenetur repellendus.                                         |      1       |\n",
            "|      |                            |                                   |               |                |        | Padangpanjang, Sulawesi Barat 16843                  |                                                                                           |              |\n",
            "|  3   | 2024-11-10 04:35:23.192981 | Doloremque itaque.                |       2       |       8        |  1984  | Jl. Sukabumi No. 2                                   | Magni quam hic voluptate placeat eveniet quos quasi mollitia neque.                       |      1       |\n",
            "|      |                            |                                   |               |                |        | Ambon, PA 99721                                      |                                                                                           |              |\n",
            "|  4   | 2024-11-10 04:35:23.192982 | Voluptatibus laudantium delectus. |       3       |       1        |  1988  | Gang Cikutra Timur No. 83                            | Vitae dolores pariatur eum accusamus minima quae.                                         |      1       |\n",
            "|      |                            |                                   |               |                |        | Bukittinggi, RI 30747                                |                                                                                           |              |\n",
            "|  5   | 2024-11-10 04:35:23.192983 | Iusto ipsa.                       |       3       |       10       |  2006  | Jalan R.E Martadinata No. 2                          | Maiores ab eveniet neque nesciunt unde vero quae cumque quia commodi ex asperiores.       |      1       |\n",
            "|      |                            |                                   |               |                |        | Sabang, KS 96355                                     |                                                                                           |              |\n",
            "|  6   | 2024-11-10 04:35:23.192984 | Deserunt nam necessitatibus odit. |       4       |       8        |  2001  | Gg. Ciumbuleuit No. 7                                | Maiores quaerat alias debitis dignissimos laudantium culpa aut.                           |      1       |\n",
            "|      |                            |                                   |               |                |        | Denpasar, JK 56551                                   |                                                                                           |              |\n",
            "|  7   | 2024-11-10 04:35:23.192985 | Numquam debitis.                  |       4       |       2        |  2005  | Gang Rajiman No. 65                                  | Nisi soluta ad nihil eligendi nostrum dolor non nulla commodi at nostrum sint.            |      1       |\n",
            "|      |                            |                                   |               |                |        | Manado, SS 61875                                     |                                                                                           |              |\n",
            "|  8   | 2024-11-10 04:35:23.192986 | Ipsa neque.                       |       7       |       6        |  2018  | Jalan Kebonjati No. 20                               | Architecto quod porro maiores quis molestias possimus corrupti eos molestiae odio.        |      1       |\n",
            "|      |                            |                                   |               |                |        | Tanjungbalai, RI 51992                               |                                                                                           |              |\n",
            "|  9   | 2024-11-10 04:35:23.192987 | Ipsa nesciunt quis.               |       2       |       4        |  2017  | Gg. Jend. A. Yani No. 30                             | Dicta velit adipisci quae ipsa eius libero iste architecto consequuntur quod beatae amet. |      1       |\n",
            "|      |                            |                                   |               |                |        | Surabaya, Papua Barat 16988                          |                                                                                           |              |\n",
            "|  10  | 2024-11-10 04:35:23.192988 | Mollitia illo nulla.              |       8       |       7        |  2015  | Jalan Cempaka No. 954                                | Suscipit at facilis sit labore fugit labore dignissimos minus alias quas hic repudiandae. |      1       |\n",
            "|      |                            |                                   |               |                |        | Tanjungbalai, Banten 13981                           |                                                                                           |              |\n",
            "+------+----------------------------+-----------------------------------+---------------+----------------+--------+------------------------------------------------------+-------------------------------------------------------------------------------------------+--------------+\n"
          ]
        }
      ]
    },
    {
      "cell_type": "code",
      "source": [
        "def authors_table(n_data, is_print):\n",
        "    publisher = {\n",
        "        \"id\" :  [i+1 for i in range(n_data)],\n",
        "        \"created_date\" : [datetime.now()]*n_data,\n",
        "        \"name\": [FAKER.simple_profile()['name'] for i in range(n_data)],\n",
        "        \"created_by\" : [1]*n_data\n",
        "    }\n",
        "\n",
        "    # Print table\n",
        "    if is_print:\n",
        "        show_data(publisher)\n",
        "\n",
        "    return publisher\n",
        "\n",
        "\n",
        "\n",
        "authors = authors_table(n_data = 10,is_print = True)"
      ],
      "metadata": {
        "colab": {
          "base_uri": "https://localhost:8080/"
        },
        "id": "hvJMFMDWXc8T",
        "outputId": "544a4993-b8c4-4e08-89f9-a65867c440e9"
      },
      "execution_count": 103,
      "outputs": [
        {
          "output_type": "stream",
          "name": "stdout",
          "text": [
            "+------+----------------------------+------------------------------+--------------+\n",
            "|  id  | created_date               | name                         |  created_by  |\n",
            "|------+----------------------------+------------------------------+--------------|\n",
            "|  1   | 2024-11-10 04:39:37.313338 | Safina Mardhiyah             |      1       |\n",
            "|  2   | 2024-11-10 04:39:37.313338 | Jagapati Sitompul            |      1       |\n",
            "|  3   | 2024-11-10 04:39:37.313338 | Asmadi Hidayanto             |      1       |\n",
            "|  4   | 2024-11-10 04:39:37.313338 | Ulya Wacana                  |      1       |\n",
            "|  5   | 2024-11-10 04:39:37.313338 | Fitriani Haryanto            |      1       |\n",
            "|  6   | 2024-11-10 04:39:37.313338 | Jatmiko Adriansyah           |      1       |\n",
            "|  7   | 2024-11-10 04:39:37.313338 | Najwa Nugroho                |      1       |\n",
            "|  8   | 2024-11-10 04:39:37.313338 | Tgk. Endah Gunawan           |      1       |\n",
            "|  9   | 2024-11-10 04:39:37.313338 | Hj. Halima Winarsih, S.I.Kom |      1       |\n",
            "|  10  | 2024-11-10 04:39:37.313338 | Kenes Yulianti               |      1       |\n",
            "+------+----------------------------+------------------------------+--------------+\n"
          ]
        }
      ]
    },
    {
      "cell_type": "code",
      "source": [
        "def books_authors_table(n_data, is_print):\n",
        "    \"\"\"\n",
        "    function to create dummy data books_authors table\n",
        "    header:\n",
        "        - id,created_date, book_id, author_id, created_by\n",
        "\n",
        "    arg:\n",
        "        - n_data (int)  : number of total data\n",
        "        - is_print  (bool) : to display the result data\n",
        "\n",
        "    return:\n",
        "        - table  (list) :\n",
        "    \"\"\"\n",
        "    # create table\n",
        "    table = {}\n",
        "    table[\"id\"] = [i+1 for i in range(n_data)]\n",
        "    table[\"created_date\"] = [datetime.now() for i in range(n_data)]\n",
        "    table[\"book_id\"] = [books['id'][i]  if i < len(books['id']) else random.choice(authors['id']) for i in range(n_data)]\n",
        "    table[\"author_id\"] =  [random.choice(authors['id']) for i in range(n_data)]\n",
        "    table[\"created_by\"] = [1 for i in range(n_data)]\n",
        "    # Print table\n",
        "    if is_print:\n",
        "        show_data(table)\n",
        "\n",
        "    return table"
      ],
      "metadata": {
        "id": "xZ7-sMo4XBgr"
      },
      "execution_count": 114,
      "outputs": []
    },
    {
      "cell_type": "code",
      "source": [
        "book_authors = books_authors_table(n_data = 15,is_print = True)"
      ],
      "metadata": {
        "colab": {
          "base_uri": "https://localhost:8080/"
        },
        "id": "FSdVBe7dYD_z",
        "outputId": "0008f8a3-9cbb-4721-cc68-ff7817fb6c16"
      },
      "execution_count": 115,
      "outputs": [
        {
          "output_type": "stream",
          "name": "stdout",
          "text": [
            "+------+----------------------------+-----------+-------------+--------------+\n",
            "|  id  | created_date               |  book_id  |  author_id  |  created_by  |\n",
            "|------+----------------------------+-----------+-------------+--------------|\n",
            "|  1   | 2024-11-10 04:53:38.970686 |     1     |      4      |      1       |\n",
            "|  2   | 2024-11-10 04:53:38.970689 |     2     |      6      |      1       |\n",
            "|  3   | 2024-11-10 04:53:38.970690 |     3     |      9      |      1       |\n",
            "|  4   | 2024-11-10 04:53:38.970691 |     4     |      1      |      1       |\n",
            "|  5   | 2024-11-10 04:53:38.970691 |     5     |      6      |      1       |\n",
            "|  6   | 2024-11-10 04:53:38.970692 |     6     |     10      |      1       |\n",
            "|  7   | 2024-11-10 04:53:38.970693 |     7     |      6      |      1       |\n",
            "|  8   | 2024-11-10 04:53:38.970694 |     8     |      1      |      1       |\n",
            "|  9   | 2024-11-10 04:53:38.970695 |     9     |      4      |      1       |\n",
            "|  10  | 2024-11-10 04:53:38.970696 |    10     |     10      |      1       |\n",
            "|  11  | 2024-11-10 04:53:38.970697 |     1     |      1      |      1       |\n",
            "|  12  | 2024-11-10 04:53:38.970698 |     4     |      7      |      1       |\n",
            "|  13  | 2024-11-10 04:53:38.970698 |    10     |      2      |      1       |\n",
            "|  14  | 2024-11-10 04:53:38.970699 |     5     |      2      |      1       |\n",
            "|  15  | 2024-11-10 04:53:38.970700 |    10     |      3      |      1       |\n",
            "+------+----------------------------+-----------+-------------+--------------+\n"
          ]
        }
      ]
    },
    {
      "cell_type": "code",
      "source": [
        "s_data = [\"Waiting\", \"Loan\",\"Returned\",\"Out-Date\",\"Late\",\"Finish\"]\n",
        "status_table = {\n",
        "    \"id\" : [i+1 for i in range(len(s_data))],\n",
        "    \"created_date\" : [datetime.now()]*len(s_data),\n",
        "    \"name\" : s_data,\n",
        "    \"created_by\": [1]*len(s_data)\n",
        "}\n",
        "show_data(status_table)"
      ],
      "metadata": {
        "colab": {
          "base_uri": "https://localhost:8080/"
        },
        "id": "UmhNUT8BdZGv",
        "outputId": "9834e071-860d-4b14-f001-8a96b6efc5fa"
      },
      "execution_count": 120,
      "outputs": [
        {
          "output_type": "stream",
          "name": "stdout",
          "text": [
            "+------+----------------------------+----------+--------------+\n",
            "|  id  | created_date               | name     |  created_by  |\n",
            "|------+----------------------------+----------+--------------|\n",
            "|  1   | 2024-11-10 05:08:21.381418 | Waiting  |      1       |\n",
            "|  2   | 2024-11-10 05:08:21.381418 | Loan     |      1       |\n",
            "|  3   | 2024-11-10 05:08:21.381418 | Returned |      1       |\n",
            "|  4   | 2024-11-10 05:08:21.381418 | Out-Date |      1       |\n",
            "|  5   | 2024-11-10 05:08:21.381418 | Late     |      1       |\n",
            "|  6   | 2024-11-10 05:08:21.381418 | Finish   |      1       |\n",
            "+------+----------------------------+----------+--------------+\n"
          ]
        }
      ]
    },
    {
      "cell_type": "code",
      "source": [
        "def library_table(n_data, is_print):\n",
        "    \"\"\"\n",
        "    function to create dummy data library table\n",
        "    header:\n",
        "        - id,created_date, name, city, address,created_by\n",
        "\n",
        "    arg:\n",
        "        - n_data (int)  : number of total data\n",
        "        - is_print  (bool) : to display the result data\n",
        "\n",
        "    return:\n",
        "        - table  (list) :\n",
        "    \"\"\"\n",
        "    # create table\n",
        "    table = {}\n",
        "    table[\"id\"] = [i+1 for i in range(n_data)]\n",
        "    table[\"created_date\"] = [datetime.now() for i in range(n_data)]\n",
        "    table[\"name\"] = [FAKER.sentence(nb_words=3) for i in range(n_data)]\n",
        "    table[\"city\"] = [FAKER.city() for i in range(n_data)]\n",
        "    table[\"address\"] = [FAKER.address() for i in range(n_data)]\n",
        "    table[\"created_by\"] = [1 for i in range(n_data)]\n",
        "    # Print table\n",
        "    if is_print:\n",
        "        show_data(table)\n",
        "\n",
        "    return table"
      ],
      "metadata": {
        "id": "KXeTyY8ceVD9"
      },
      "execution_count": 121,
      "outputs": []
    },
    {
      "cell_type": "code",
      "source": [
        "library = library_table(n_data = 5,is_print = True)"
      ],
      "metadata": {
        "colab": {
          "base_uri": "https://localhost:8080/"
        },
        "id": "nFHag2eHftEa",
        "outputId": "dccc905a-3d76-4703-f0c4-5a56ab01f776"
      },
      "execution_count": 122,
      "outputs": [
        {
          "output_type": "stream",
          "name": "stdout",
          "text": [
            "+------+----------------------------+--------------------------------+--------------+-------------------------------------------+--------------+\n",
            "|  id  | created_date               | name                           | city         | address                                   |  created_by  |\n",
            "|------+----------------------------+--------------------------------+--------------+-------------------------------------------+--------------|\n",
            "|  1   | 2024-11-10 05:14:50.970293 | Natus harum.                   | Kendari      | Jl. Erlangga No. 70                       |      1       |\n",
            "|      |                            |                                |              | Padangpanjang, JB 02727                   |              |\n",
            "|  2   | 2024-11-10 05:14:50.970297 | Dignissimos modi.              | Lubuklinggau | Gang Rajiman No. 94                       |      1       |\n",
            "|      |                            |                                |              | Pariaman, JT 81145                        |              |\n",
            "|  3   | 2024-11-10 05:14:50.970297 | Similique tenetur accusantium. | Tegal        | Jl. Kutisari Selatan No. 9                |      1       |\n",
            "|      |                            |                                |              | Kota Administrasi Jakarta Utara, JB 67434 |              |\n",
            "|  4   | 2024-11-10 05:14:50.970298 | Quibusdam sit.                 | Depok        | Jalan Dr. Djunjunan No. 973               |      1       |\n",
            "|      |                            |                                |              | Bengkulu, Jawa Barat 80242                |              |\n",
            "|  5   | 2024-11-10 05:14:50.970299 | Quidem accusamus.              | Ternate      | Jl. Asia Afrika No. 78                    |      1       |\n",
            "|      |                            |                                |              | Samarinda, Maluku 58219                   |              |\n",
            "+------+----------------------------+--------------------------------+--------------+-------------------------------------------+--------------+\n"
          ]
        }
      ]
    },
    {
      "cell_type": "code",
      "source": [
        "from random import randrange\n",
        "\n",
        "def library_book_table(n_data=None, is_print=False):\n",
        "    \"\"\"\n",
        "    function to create dummy data library book table\n",
        "    header:\n",
        "        - id,created_date, library_id, book_id, stocks, created_by\n",
        "\n",
        "    arg:\n",
        "        - n_data (int)  : number of total data\n",
        "        - is_print  (bool) : to display the result data\n",
        "\n",
        "    return:\n",
        "        - table  (list) :\n",
        "    \"\"\"\n",
        "    library_id = []\n",
        "    books_id = []\n",
        "    n_data = len(library['id']) * len(books['id'])\n",
        "\n",
        "    for i in library['id']:\n",
        "      for j in books['id']:\n",
        "        library_id.append(i)\n",
        "\n",
        "\n",
        "    for i in library['id']:\n",
        "      for j in books['id']:\n",
        "        books_id.append(j)\n",
        "\n",
        "    # create table\n",
        "    table = {}\n",
        "    table[\"id\"] = [i+1 for i in range(n_data)]\n",
        "    table[\"created_date\"] = [datetime.now() for i in range(n_data)]\n",
        "    table[\"library_id\"] = library_id\n",
        "    table[\"book_id\"] =  books_id\n",
        "    table[\"stock\"]   = [randrange(3) for i in range(n_data)]\n",
        "    table['quantity'] = [3]*n_data\n",
        "    table[\"created_by\"] = [1 for i in range(n_data)]\n",
        "\n",
        "\n",
        "    # Print table\n",
        "    if is_print:\n",
        "        show_data(table)\n",
        "\n",
        "    return table"
      ],
      "metadata": {
        "id": "XBTrUd2-g2_R"
      },
      "execution_count": 149,
      "outputs": []
    },
    {
      "cell_type": "code",
      "source": [
        "library_books = library_book_table(is_print = True)"
      ],
      "metadata": {
        "colab": {
          "base_uri": "https://localhost:8080/"
        },
        "id": "5g7VsGratxP-",
        "outputId": "d9e6e1c4-c3be-4518-c586-7cd56dbffc5a"
      },
      "execution_count": 150,
      "outputs": [
        {
          "output_type": "stream",
          "name": "stdout",
          "text": [
            "+------+----------------------------+--------------+-----------+---------+------------+--------------+\n",
            "|  id  | created_date               |  library_id  |  book_id  |  stock  |  quantity  |  created_by  |\n",
            "|------+----------------------------+--------------+-----------+---------+------------+--------------|\n",
            "|  1   | 2024-11-10 06:32:40.476653 |      1       |     1     |    1    |     3      |      1       |\n",
            "|  2   | 2024-11-10 06:32:40.476657 |      1       |     2     |    1    |     3      |      1       |\n",
            "|  3   | 2024-11-10 06:32:40.476658 |      1       |     3     |    1    |     3      |      1       |\n",
            "|  4   | 2024-11-10 06:32:40.476659 |      1       |     4     |    1    |     3      |      1       |\n",
            "|  5   | 2024-11-10 06:32:40.476659 |      1       |     5     |    0    |     3      |      1       |\n",
            "|  6   | 2024-11-10 06:32:40.476660 |      1       |     6     |    0    |     3      |      1       |\n",
            "|  7   | 2024-11-10 06:32:40.476661 |      1       |     7     |    0    |     3      |      1       |\n",
            "|  8   | 2024-11-10 06:32:40.476662 |      1       |     8     |    0    |     3      |      1       |\n",
            "|  9   | 2024-11-10 06:32:40.476662 |      1       |     9     |    1    |     3      |      1       |\n",
            "|  10  | 2024-11-10 06:32:40.476663 |      1       |    10     |    0    |     3      |      1       |\n",
            "|  11  | 2024-11-10 06:32:40.476664 |      2       |     1     |    0    |     3      |      1       |\n",
            "|  12  | 2024-11-10 06:32:40.476665 |      2       |     2     |    1    |     3      |      1       |\n",
            "|  13  | 2024-11-10 06:32:40.476665 |      2       |     3     |    2    |     3      |      1       |\n",
            "|  14  | 2024-11-10 06:32:40.476666 |      2       |     4     |    1    |     3      |      1       |\n",
            "|  15  | 2024-11-10 06:32:40.476667 |      2       |     5     |    0    |     3      |      1       |\n",
            "|  16  | 2024-11-10 06:32:40.476667 |      2       |     6     |    0    |     3      |      1       |\n",
            "|  17  | 2024-11-10 06:32:40.476668 |      2       |     7     |    2    |     3      |      1       |\n",
            "|  18  | 2024-11-10 06:32:40.476669 |      2       |     8     |    2    |     3      |      1       |\n",
            "|  19  | 2024-11-10 06:32:40.476670 |      2       |     9     |    0    |     3      |      1       |\n",
            "|  20  | 2024-11-10 06:32:40.476670 |      2       |    10     |    2    |     3      |      1       |\n",
            "|  21  | 2024-11-10 06:32:40.476671 |      3       |     1     |    1    |     3      |      1       |\n",
            "|  22  | 2024-11-10 06:32:40.476672 |      3       |     2     |    1    |     3      |      1       |\n",
            "|  23  | 2024-11-10 06:32:40.476672 |      3       |     3     |    0    |     3      |      1       |\n",
            "|  24  | 2024-11-10 06:32:40.476673 |      3       |     4     |    1    |     3      |      1       |\n",
            "|  25  | 2024-11-10 06:32:40.476673 |      3       |     5     |    0    |     3      |      1       |\n",
            "|  26  | 2024-11-10 06:32:40.476674 |      3       |     6     |    1    |     3      |      1       |\n",
            "|  27  | 2024-11-10 06:32:40.476675 |      3       |     7     |    0    |     3      |      1       |\n",
            "|  28  | 2024-11-10 06:32:40.476676 |      3       |     8     |    2    |     3      |      1       |\n",
            "|  29  | 2024-11-10 06:32:40.476676 |      3       |     9     |    0    |     3      |      1       |\n",
            "|  30  | 2024-11-10 06:32:40.476677 |      3       |    10     |    1    |     3      |      1       |\n",
            "|  31  | 2024-11-10 06:32:40.476677 |      4       |     1     |    0    |     3      |      1       |\n",
            "|  32  | 2024-11-10 06:32:40.476678 |      4       |     2     |    0    |     3      |      1       |\n",
            "|  33  | 2024-11-10 06:32:40.476678 |      4       |     3     |    2    |     3      |      1       |\n",
            "|  34  | 2024-11-10 06:32:40.476679 |      4       |     4     |    2    |     3      |      1       |\n",
            "|  35  | 2024-11-10 06:32:40.476680 |      4       |     5     |    1    |     3      |      1       |\n",
            "|  36  | 2024-11-10 06:32:40.476680 |      4       |     6     |    2    |     3      |      1       |\n",
            "|  37  | 2024-11-10 06:32:40.476681 |      4       |     7     |    2    |     3      |      1       |\n",
            "|  38  | 2024-11-10 06:32:40.476681 |      4       |     8     |    0    |     3      |      1       |\n",
            "|  39  | 2024-11-10 06:32:40.476682 |      4       |     9     |    1    |     3      |      1       |\n",
            "|  40  | 2024-11-10 06:32:40.476683 |      4       |    10     |    2    |     3      |      1       |\n",
            "|  41  | 2024-11-10 06:32:40.476684 |      5       |     1     |    2    |     3      |      1       |\n",
            "|  42  | 2024-11-10 06:32:40.476684 |      5       |     2     |    2    |     3      |      1       |\n",
            "|  43  | 2024-11-10 06:32:40.476685 |      5       |     3     |    0    |     3      |      1       |\n",
            "|  44  | 2024-11-10 06:32:40.476686 |      5       |     4     |    0    |     3      |      1       |\n",
            "|  45  | 2024-11-10 06:32:40.476686 |      5       |     5     |    0    |     3      |      1       |\n",
            "|  46  | 2024-11-10 06:32:40.476687 |      5       |     6     |    1    |     3      |      1       |\n",
            "|  47  | 2024-11-10 06:32:40.476687 |      5       |     7     |    0    |     3      |      1       |\n",
            "|  48  | 2024-11-10 06:32:40.476688 |      5       |     8     |    0    |     3      |      1       |\n",
            "|  49  | 2024-11-10 06:32:40.476689 |      5       |     9     |    0    |     3      |      1       |\n",
            "|  50  | 2024-11-10 06:32:40.476689 |      5       |    10     |    0    |     3      |      1       |\n",
            "+------+----------------------------+--------------+-----------+---------+------------+--------------+\n"
          ]
        }
      ]
    },
    {
      "cell_type": "code",
      "source": [
        "def book_details_table(n_data=None, is_print=False):\n",
        "    \"\"\"\n",
        "    function to create dummy data books_details table\n",
        "    header:\n",
        "        - id,created_date, library_book_id, isbn, is_available, created_by\n",
        "\n",
        "    arg:\n",
        "        - n_data (int)  : number of total data\n",
        "        - is_print  (bool) : to display the result data\n",
        "\n",
        "    return:\n",
        "        - table  (list) :\n",
        "    \"\"\"\n",
        "    n_data = library_books['quantity'][1] * len(library_books['id'])\n",
        "\n",
        "    library_book_id = []\n",
        "    for i in library_books['id']:\n",
        "      for j in range(library_books['quantity'][1]):\n",
        "        library_book_id.append(i)\n",
        "    # Buat table\n",
        "    table = {}\n",
        "    table[\"id\"] = [i+1 for i in range(n_data)]\n",
        "    table[\"created_date\"] = [datetime.now() for i in range(n_data)]\n",
        "    table[\"library_book_id\"] = library_book_id\n",
        "    table[\"isbn\"] =  [FAKER.isbn13() for i in range(n_data)]\n",
        "    table['is_available'] = [True for i in range(n_data) ]\n",
        "    table[\"created_by\"] = [1 for i in range(n_data)]\n",
        "    # Print table\n",
        "    if is_print:\n",
        "        show_data(table)\n",
        "\n",
        "    return table"
      ],
      "metadata": {
        "id": "j0sw5ArFgOqo"
      },
      "execution_count": 173,
      "outputs": []
    },
    {
      "cell_type": "code",
      "source": [
        "book_details = book_details_table(is_print = True)"
      ],
      "metadata": {
        "colab": {
          "base_uri": "https://localhost:8080/"
        },
        "id": "j-mpH_IRyJlA",
        "outputId": "0add681c-efed-494f-9a40-cb214d12ced1"
      },
      "execution_count": 174,
      "outputs": [
        {
          "output_type": "stream",
          "name": "stdout",
          "text": [
            "+------+----------------------------+-------------------+-------------------+----------------+--------------+\n",
            "|  id  | created_date               |  library_book_id  | isbn              | is_available   |  created_by  |\n",
            "|------+----------------------------+-------------------+-------------------+----------------+--------------|\n",
            "|  1   | 2024-11-10 06:54:34.338336 |         1         | 978-1-57400-321-5 | True           |      1       |\n",
            "|  2   | 2024-11-10 06:54:34.338340 |         1         | 978-1-01-901822-4 | True           |      1       |\n",
            "|  3   | 2024-11-10 06:54:34.338341 |         1         | 978-1-4648-9552-4 | True           |      1       |\n",
            "|  4   | 2024-11-10 06:54:34.338342 |         2         | 978-1-154-07985-2 | True           |      1       |\n",
            "|  5   | 2024-11-10 06:54:34.338343 |         2         | 978-1-228-09205-3 | True           |      1       |\n",
            "|  6   | 2024-11-10 06:54:34.338343 |         2         | 978-0-351-57985-1 | True           |      1       |\n",
            "|  7   | 2024-11-10 06:54:34.338344 |         3         | 978-1-5431-9741-9 | True           |      1       |\n",
            "|  8   | 2024-11-10 06:54:34.338345 |         3         | 978-0-06-735624-1 | True           |      1       |\n",
            "|  9   | 2024-11-10 06:54:34.338346 |         3         | 978-0-318-09299-7 | True           |      1       |\n",
            "|  10  | 2024-11-10 06:54:34.338347 |         4         | 978-0-7503-6977-0 | True           |      1       |\n",
            "|  11  | 2024-11-10 06:54:34.338348 |         4         | 978-0-12-557765-6 | True           |      1       |\n",
            "|  12  | 2024-11-10 06:54:34.338349 |         4         | 978-1-916320-19-2 | True           |      1       |\n",
            "|  13  | 2024-11-10 06:54:34.338350 |         5         | 978-0-493-35611-2 | True           |      1       |\n",
            "|  14  | 2024-11-10 06:54:34.338351 |         5         | 978-0-88938-389-0 | True           |      1       |\n",
            "|  15  | 2024-11-10 06:54:34.338352 |         5         | 978-0-09-148211-4 | True           |      1       |\n",
            "|  16  | 2024-11-10 06:54:34.338353 |         6         | 978-0-347-64205-7 | True           |      1       |\n",
            "|  17  | 2024-11-10 06:54:34.338354 |         6         | 978-1-66446-168-0 | True           |      1       |\n",
            "|  18  | 2024-11-10 06:54:34.338355 |         6         | 978-1-123-09944-7 | True           |      1       |\n",
            "|  19  | 2024-11-10 06:54:34.338356 |         7         | 978-1-09-847443-0 | True           |      1       |\n",
            "|  20  | 2024-11-10 06:54:34.338356 |         7         | 978-1-139-61750-5 | True           |      1       |\n",
            "|  21  | 2024-11-10 06:54:34.338357 |         7         | 978-0-04-666803-7 | True           |      1       |\n",
            "|  22  | 2024-11-10 06:54:34.338358 |         8         | 978-0-19-964818-4 | True           |      1       |\n",
            "|  23  | 2024-11-10 06:54:34.338359 |         8         | 978-0-549-79929-0 | True           |      1       |\n",
            "|  24  | 2024-11-10 06:54:34.338360 |         8         | 978-1-326-91945-0 | True           |      1       |\n",
            "|  25  | 2024-11-10 06:54:34.338361 |         9         | 978-1-383-36797-3 | True           |      1       |\n",
            "|  26  | 2024-11-10 06:54:34.338362 |         9         | 978-0-9856030-9-0 | True           |      1       |\n",
            "|  27  | 2024-11-10 06:54:34.338363 |         9         | 978-1-08-741248-1 | True           |      1       |\n",
            "|  28  | 2024-11-10 06:54:34.338363 |        10         | 978-1-83536-825-1 | True           |      1       |\n",
            "|  29  | 2024-11-10 06:54:34.338364 |        10         | 978-0-276-73083-2 | True           |      1       |\n",
            "|  30  | 2024-11-10 06:54:34.338365 |        10         | 978-1-59254-287-1 | True           |      1       |\n",
            "|  31  | 2024-11-10 06:54:34.338366 |        11         | 978-0-677-30736-7 | True           |      1       |\n",
            "|  32  | 2024-11-10 06:54:34.338367 |        11         | 978-0-10-765817-5 | True           |      1       |\n",
            "|  33  | 2024-11-10 06:54:34.338368 |        11         | 978-0-8126-8117-8 | True           |      1       |\n",
            "|  34  | 2024-11-10 06:54:34.338368 |        12         | 978-0-417-32750-1 | True           |      1       |\n",
            "|  35  | 2024-11-10 06:54:34.338369 |        12         | 978-1-9731-3995-9 | True           |      1       |\n",
            "|  36  | 2024-11-10 06:54:34.338370 |        12         | 978-0-85994-492-2 | True           |      1       |\n",
            "|  37  | 2024-11-10 06:54:34.338371 |        13         | 978-0-09-537495-8 | True           |      1       |\n",
            "|  38  | 2024-11-10 06:54:34.338372 |        13         | 978-0-664-11008-6 | True           |      1       |\n",
            "|  39  | 2024-11-10 06:54:34.338372 |        13         | 978-0-620-77635-6 | True           |      1       |\n",
            "|  40  | 2024-11-10 06:54:34.338373 |        14         | 978-1-5020-6530-8 | True           |      1       |\n",
            "|  41  | 2024-11-10 06:54:34.338374 |        14         | 978-1-09-934097-0 | True           |      1       |\n",
            "|  42  | 2024-11-10 06:54:34.338375 |        14         | 978-0-08-749073-4 | True           |      1       |\n",
            "|  43  | 2024-11-10 06:54:34.338376 |        15         | 978-0-536-62961-6 | True           |      1       |\n",
            "|  44  | 2024-11-10 06:54:34.338376 |        15         | 978-0-912027-98-2 | True           |      1       |\n",
            "|  45  | 2024-11-10 06:54:34.338377 |        15         | 978-1-145-60504-6 | True           |      1       |\n",
            "|  46  | 2024-11-10 06:54:34.338378 |        16         | 978-0-527-66183-0 | True           |      1       |\n",
            "|  47  | 2024-11-10 06:54:34.338379 |        16         | 978-1-207-52261-8 | True           |      1       |\n",
            "|  48  | 2024-11-10 06:54:34.338380 |        16         | 978-1-235-07132-4 | True           |      1       |\n",
            "|  49  | 2024-11-10 06:54:34.338380 |        17         | 978-0-9939304-8-5 | True           |      1       |\n",
            "|  50  | 2024-11-10 06:54:34.338381 |        17         | 978-1-65897-750-0 | True           |      1       |\n",
            "|  51  | 2024-11-10 06:54:34.338382 |        17         | 978-1-07-602791-7 | True           |      1       |\n",
            "|  52  | 2024-11-10 06:54:34.338383 |        18         | 978-0-225-55858-6 | True           |      1       |\n",
            "|  53  | 2024-11-10 06:54:34.338384 |        18         | 978-1-895870-85-5 | True           |      1       |\n",
            "|  54  | 2024-11-10 06:54:34.338385 |        18         | 978-1-380-33785-6 | True           |      1       |\n",
            "|  55  | 2024-11-10 06:54:34.338386 |        19         | 978-0-87998-451-9 | True           |      1       |\n",
            "|  56  | 2024-11-10 06:54:34.338386 |        19         | 978-0-636-27215-6 | True           |      1       |\n",
            "|  57  | 2024-11-10 06:54:34.338387 |        19         | 978-0-19-957227-4 | True           |      1       |\n",
            "|  58  | 2024-11-10 06:54:34.338388 |        20         | 978-0-563-99922-5 | True           |      1       |\n",
            "|  59  | 2024-11-10 06:54:34.338389 |        20         | 978-0-417-34668-7 | True           |      1       |\n",
            "|  60  | 2024-11-10 06:54:34.338389 |        20         | 978-1-4886-0908-4 | True           |      1       |\n",
            "|  61  | 2024-11-10 06:54:34.338390 |        21         | 978-1-970991-40-6 | True           |      1       |\n",
            "|  62  | 2024-11-10 06:54:34.338391 |        21         | 978-0-337-99742-6 | True           |      1       |\n",
            "|  63  | 2024-11-10 06:54:34.338392 |        21         | 978-1-4837-1717-3 | True           |      1       |\n",
            "|  64  | 2024-11-10 06:54:34.338392 |        22         | 978-1-55737-207-9 | True           |      1       |\n",
            "|  65  | 2024-11-10 06:54:34.338393 |        22         | 978-1-128-14668-9 | True           |      1       |\n",
            "|  66  | 2024-11-10 06:54:34.338394 |        22         | 978-0-698-54797-1 | True           |      1       |\n",
            "|  67  | 2024-11-10 06:54:34.338395 |        23         | 978-1-359-03185-3 | True           |      1       |\n",
            "|  68  | 2024-11-10 06:54:34.338396 |        23         | 978-1-65098-704-0 | True           |      1       |\n",
            "|  69  | 2024-11-10 06:54:34.338397 |        23         | 978-1-971385-88-4 | True           |      1       |\n",
            "|  70  | 2024-11-10 06:54:34.338397 |        24         | 978-0-7109-3542-7 | True           |      1       |\n",
            "|  71  | 2024-11-10 06:54:34.338398 |        24         | 978-1-198-53640-3 | True           |      1       |\n",
            "|  72  | 2024-11-10 06:54:34.338399 |        24         | 978-0-557-25903-8 | True           |      1       |\n",
            "|  73  | 2024-11-10 06:54:34.338400 |        25         | 978-0-7813-0714-7 | True           |      1       |\n",
            "|  74  | 2024-11-10 06:54:34.338401 |        25         | 978-0-278-95573-8 | True           |      1       |\n",
            "|  75  | 2024-11-10 06:54:34.338401 |        25         | 978-0-509-46020-8 | True           |      1       |\n",
            "|  76  | 2024-11-10 06:54:34.338402 |        26         | 978-0-686-31030-3 | True           |      1       |\n",
            "|  77  | 2024-11-10 06:54:34.338403 |        26         | 978-0-244-66851-8 | True           |      1       |\n",
            "|  78  | 2024-11-10 06:54:34.338404 |        26         | 978-1-318-75474-8 | True           |      1       |\n",
            "|  79  | 2024-11-10 06:54:34.338405 |        27         | 978-1-4371-1776-9 | True           |      1       |\n",
            "|  80  | 2024-11-10 06:54:34.338405 |        27         | 978-1-83504-862-7 | True           |      1       |\n",
            "|  81  | 2024-11-10 06:54:34.338406 |        27         | 978-0-8045-4907-3 | True           |      1       |\n",
            "|  82  | 2024-11-10 06:54:34.338407 |        28         | 978-0-7170-5213-4 | True           |      1       |\n",
            "|  83  | 2024-11-10 06:54:34.338408 |        28         | 978-0-576-86546-3 | True           |      1       |\n",
            "|  84  | 2024-11-10 06:54:34.338408 |        28         | 978-0-500-13581-5 | True           |      1       |\n",
            "|  85  | 2024-11-10 06:54:34.338409 |        29         | 978-0-06-208788-1 | True           |      1       |\n",
            "|  86  | 2024-11-10 06:54:34.338410 |        29         | 978-0-8108-3393-7 | True           |      1       |\n",
            "|  87  | 2024-11-10 06:54:34.338411 |        29         | 978-1-336-59551-4 | True           |      1       |\n",
            "|  88  | 2024-11-10 06:54:34.338411 |        30         | 978-0-506-77049-2 | True           |      1       |\n",
            "|  89  | 2024-11-10 06:54:34.338412 |        30         | 978-0-323-31394-0 | True           |      1       |\n",
            "|  90  | 2024-11-10 06:54:34.338413 |        30         | 978-0-18-157294-7 | True           |      1       |\n",
            "|  91  | 2024-11-10 06:54:34.338414 |        31         | 978-1-84421-392-4 | True           |      1       |\n",
            "|  92  | 2024-11-10 06:54:34.338414 |        31         | 978-0-532-20452-7 | True           |      1       |\n",
            "|  93  | 2024-11-10 06:54:34.338415 |        31         | 978-1-4284-0623-0 | True           |      1       |\n",
            "|  94  | 2024-11-10 06:54:34.338417 |        32         | 978-1-4982-8740-1 | True           |      1       |\n",
            "|  95  | 2024-11-10 06:54:34.338417 |        32         | 978-1-06-956405-4 | True           |      1       |\n",
            "|  96  | 2024-11-10 06:54:34.338418 |        32         | 978-0-85042-192-7 | True           |      1       |\n",
            "|  97  | 2024-11-10 06:54:34.338419 |        33         | 978-0-522-34880-4 | True           |      1       |\n",
            "|  98  | 2024-11-10 06:54:34.338420 |        33         | 978-0-7762-4346-7 | True           |      1       |\n",
            "|  99  | 2024-11-10 06:54:34.338420 |        33         | 978-0-451-04304-7 | True           |      1       |\n",
            "| 100  | 2024-11-10 06:54:34.338421 |        34         | 978-1-79008-325-1 | True           |      1       |\n",
            "| 101  | 2024-11-10 06:54:34.338422 |        34         | 978-1-262-71073-9 | True           |      1       |\n",
            "| 102  | 2024-11-10 06:54:34.338423 |        34         | 978-0-8393-5972-2 | True           |      1       |\n",
            "| 103  | 2024-11-10 06:54:34.338423 |        35         | 978-0-644-19020-6 | True           |      1       |\n",
            "| 104  | 2024-11-10 06:54:34.338424 |        35         | 978-1-64662-669-4 | True           |      1       |\n",
            "| 105  | 2024-11-10 06:54:34.338425 |        35         | 978-1-66738-827-4 | True           |      1       |\n",
            "| 106  | 2024-11-10 06:54:34.338426 |        36         | 978-0-442-33382-9 | True           |      1       |\n",
            "| 107  | 2024-11-10 06:54:34.338426 |        36         | 978-0-04-591422-7 | True           |      1       |\n",
            "| 108  | 2024-11-10 06:54:34.338427 |        36         | 978-1-79012-777-1 | True           |      1       |\n",
            "| 109  | 2024-11-10 06:54:34.338428 |        37         | 978-1-230-82158-0 | True           |      1       |\n",
            "| 110  | 2024-11-10 06:54:34.338429 |        37         | 978-0-19-356105-2 | True           |      1       |\n",
            "| 111  | 2024-11-10 06:54:34.338430 |        37         | 978-0-7588-9022-1 | True           |      1       |\n",
            "| 112  | 2024-11-10 06:54:34.338430 |        38         | 978-0-402-21468-7 | True           |      1       |\n",
            "| 113  | 2024-11-10 06:54:34.338431 |        38         | 978-1-4986-7352-5 | True           |      1       |\n",
            "| 114  | 2024-11-10 06:54:34.338432 |        38         | 978-0-307-47326-4 | True           |      1       |\n",
            "| 115  | 2024-11-10 06:54:34.338432 |        39         | 978-0-393-18759-5 | True           |      1       |\n",
            "| 116  | 2024-11-10 06:54:34.338433 |        39         | 978-1-4137-4896-3 | True           |      1       |\n",
            "| 117  | 2024-11-10 06:54:34.338434 |        39         | 978-1-63149-000-2 | True           |      1       |\n",
            "| 118  | 2024-11-10 06:54:34.338435 |        40         | 978-0-562-52284-4 | True           |      1       |\n",
            "| 119  | 2024-11-10 06:54:34.338435 |        40         | 978-0-445-10064-0 | True           |      1       |\n",
            "| 120  | 2024-11-10 06:54:34.338436 |        40         | 978-1-250-05931-4 | True           |      1       |\n",
            "| 121  | 2024-11-10 06:54:34.338437 |        41         | 978-0-523-89135-4 | True           |      1       |\n",
            "| 122  | 2024-11-10 06:54:34.338438 |        41         | 978-1-82045-109-8 | True           |      1       |\n",
            "| 123  | 2024-11-10 06:54:34.338438 |        41         | 978-0-9576029-3-9 | True           |      1       |\n",
            "| 124  | 2024-11-10 06:54:34.338439 |        42         | 978-1-176-67883-5 | True           |      1       |\n",
            "| 125  | 2024-11-10 06:54:34.338440 |        42         | 978-0-641-59045-0 | True           |      1       |\n",
            "| 126  | 2024-11-10 06:54:34.338441 |        42         | 978-1-82900-104-1 | True           |      1       |\n",
            "| 127  | 2024-11-10 06:54:34.338441 |        43         | 978-1-226-08741-9 | True           |      1       |\n",
            "| 128  | 2024-11-10 06:54:34.338442 |        43         | 978-0-18-046324-6 | True           |      1       |\n",
            "| 129  | 2024-11-10 06:54:34.338443 |        43         | 978-1-02-403756-2 | True           |      1       |\n",
            "| 130  | 2024-11-10 06:54:34.338444 |        44         | 978-1-65483-976-5 | True           |      1       |\n",
            "| 131  | 2024-11-10 06:54:34.338445 |        44         | 978-1-4538-5246-0 | True           |      1       |\n",
            "| 132  | 2024-11-10 06:54:34.338445 |        44         | 978-1-4215-8748-6 | True           |      1       |\n",
            "| 133  | 2024-11-10 06:54:34.338446 |        45         | 978-0-9660036-4-2 | True           |      1       |\n",
            "| 134  | 2024-11-10 06:54:34.338447 |        45         | 978-1-4365-4664-5 | True           |      1       |\n",
            "| 135  | 2024-11-10 06:54:34.338448 |        45         | 978-1-74493-479-0 | True           |      1       |\n",
            "| 136  | 2024-11-10 06:54:34.338448 |        46         | 978-1-222-98462-0 | True           |      1       |\n",
            "| 137  | 2024-11-10 06:54:34.338449 |        46         | 978-1-65952-089-7 | True           |      1       |\n",
            "| 138  | 2024-11-10 06:54:34.338450 |        46         | 978-1-4444-7030-7 | True           |      1       |\n",
            "| 139  | 2024-11-10 06:54:34.338450 |        47         | 978-1-939736-14-7 | True           |      1       |\n",
            "| 140  | 2024-11-10 06:54:34.338451 |        47         | 978-1-265-38781-5 | True           |      1       |\n",
            "| 141  | 2024-11-10 06:54:34.338452 |        47         | 978-1-69333-548-8 | True           |      1       |\n",
            "| 142  | 2024-11-10 06:54:34.338453 |        48         | 978-0-16-739866-0 | True           |      1       |\n",
            "| 143  | 2024-11-10 06:54:34.338453 |        48         | 978-1-01-661742-0 | True           |      1       |\n",
            "| 144  | 2024-11-10 06:54:34.338454 |        48         | 978-0-12-877736-7 | True           |      1       |\n",
            "| 145  | 2024-11-10 06:54:34.338455 |        49         | 978-0-8228-0429-1 | True           |      1       |\n",
            "| 146  | 2024-11-10 06:54:34.338455 |        49         | 978-1-154-46575-4 | True           |      1       |\n",
            "| 147  | 2024-11-10 06:54:34.338456 |        49         | 978-1-76996-495-6 | True           |      1       |\n",
            "| 148  | 2024-11-10 06:54:34.338457 |        50         | 978-0-276-12026-8 | True           |      1       |\n",
            "| 149  | 2024-11-10 06:54:34.338457 |        50         | 978-0-8060-4493-4 | True           |      1       |\n",
            "| 150  | 2024-11-10 06:54:34.338459 |        50         | 978-0-686-17611-4 | True           |      1       |\n",
            "+------+----------------------------+-------------------+-------------------+----------------+--------------+\n"
          ]
        }
      ]
    },
    {
      "cell_type": "code",
      "source": [
        "from datetime import timedelta\n",
        "def borrow_table(n_data, is_print):\n",
        "    \"\"\"\n",
        "    function to create dummy data borrow table\n",
        "    header:\n",
        "        - id,created_date, user_id, start_date, due_date, status_id, created_by\n",
        "\n",
        "    arg:\n",
        "        - n_data (int)  : number of total data\n",
        "        - is_print  (bool) : to display the result data\n",
        "\n",
        "    return:\n",
        "        - table  (list) :\n",
        "    \"\"\"\n",
        "    # Buat table\n",
        "    table = {}\n",
        "    table[\"id\"] = [i+1 for i in range(n_data)]\n",
        "    table[\"created_date\"] = [datetime.now() for i in range(n_data)]\n",
        "    table[\"user_id\"] = [users['id'][i] for i in range(n_data)]\n",
        "    table[\"start_date\"] =  [datetime.now() for i in range(n_data)]\n",
        "    table['due_date'] = [datetime.now() + timedelta(weeks=2) for i in range(n_data)]\n",
        "    table['status_id'] = [random.choice(status_table['id']) for i in range(n_data)]\n",
        "    table[\"created_by\"] = [1 for i in range(n_data)]\n",
        "    # Print table\n",
        "    if is_print:\n",
        "        show_data(table)\n",
        "\n",
        "    return table"
      ],
      "metadata": {
        "id": "mGucdLOq3GJe"
      },
      "execution_count": 177,
      "outputs": []
    },
    {
      "cell_type": "code",
      "source": [
        "borrows = borrow_table(n_data=10,is_print = True)"
      ],
      "metadata": {
        "colab": {
          "base_uri": "https://localhost:8080/"
        },
        "id": "tkOKT9Tx5BqQ",
        "outputId": "c85fa553-62c0-4271-a454-69aaf4d34bad"
      },
      "execution_count": 178,
      "outputs": [
        {
          "output_type": "stream",
          "name": "stdout",
          "text": [
            "+------+----------------------------+-----------+----------------------------+----------------------------+-------------+--------------+\n",
            "|  id  | created_date               |  user_id  | start_date                 | due_date                   |  status_id  |  created_by  |\n",
            "|------+----------------------------+-----------+----------------------------+----------------------------+-------------+--------------|\n",
            "|  1   | 2024-11-10 07:06:22.464960 |     1     | 2024-11-10 07:06:22.464978 | 2024-11-24 07:06:22.464990 |      6      |      1       |\n",
            "|  2   | 2024-11-10 07:06:22.464963 |     2     | 2024-11-10 07:06:22.464979 | 2024-11-24 07:06:22.464999 |      5      |      1       |\n",
            "|  3   | 2024-11-10 07:06:22.464964 |     3     | 2024-11-10 07:06:22.464980 | 2024-11-24 07:06:22.465003 |      2      |      1       |\n",
            "|  4   | 2024-11-10 07:06:22.464965 |     4     | 2024-11-10 07:06:22.464980 | 2024-11-24 07:06:22.465006 |      3      |      1       |\n",
            "|  5   | 2024-11-10 07:06:22.464965 |     5     | 2024-11-10 07:06:22.464981 | 2024-11-24 07:06:22.465009 |      5      |      1       |\n",
            "|  6   | 2024-11-10 07:06:22.464966 |     6     | 2024-11-10 07:06:22.464982 | 2024-11-24 07:06:22.465011 |      6      |      1       |\n",
            "|  7   | 2024-11-10 07:06:22.464967 |     7     | 2024-11-10 07:06:22.464983 | 2024-11-24 07:06:22.465015 |      1      |      1       |\n",
            "|  8   | 2024-11-10 07:06:22.464968 |     8     | 2024-11-10 07:06:22.464984 | 2024-11-24 07:06:22.465017 |      2      |      1       |\n",
            "|  9   | 2024-11-10 07:06:22.464969 |     9     | 2024-11-10 07:06:22.464985 | 2024-11-24 07:06:22.465020 |      2      |      1       |\n",
            "|  10  | 2024-11-10 07:06:22.464970 |    10     | 2024-11-10 07:06:22.464986 | 2024-11-24 07:06:22.465023 |      3      |      1       |\n",
            "+------+----------------------------+-----------+----------------------------+----------------------------+-------------+--------------+\n"
          ]
        }
      ]
    },
    {
      "cell_type": "code",
      "source": [
        "def borrow_details_table(n_data=None, is_print=None):\n",
        "    \"\"\"\n",
        "    function to create dummy data borrow details table\n",
        "    header:\n",
        "        - id,created_date, borrow_id, book_detail_id, return date, status_id, created_by\n",
        "\n",
        "    arg:\n",
        "        - n_data (int)  : number of total data\n",
        "        - is_print  (bool) : to display the result data\n",
        "\n",
        "    return:\n",
        "        - table  (list) :\n",
        "    \"\"\"\n",
        "    n_data = len(borrows['id']*2)\n",
        "    borrow_id = []\n",
        "    for i in borrows['id']:\n",
        "      for j in range(2):\n",
        "        borrow_id.append(i)\n",
        "\n",
        "    # Buat table\n",
        "    table = {}\n",
        "    table[\"id\"] = [i+1 for i in range(n_data)]\n",
        "    table[\"created_date\"] = [datetime.now() for i in range(n_data)]\n",
        "    table[\"borrow_id\"] = borrow_id\n",
        "    table[\"book_detail_id\"] =  [random.choice(book_details['id']) for i in range(n_data)]\n",
        "    table['return_date'] = [None for i in range(n_data)]\n",
        "    table['status_id'] = [random.choice(status_table['id']) for i in range(n_data)]\n",
        "    table[\"created_by\"] = [1 for i in range(n_data)]\n",
        "    # Print table\n",
        "    if is_print:\n",
        "        show_data(table)\n",
        "\n",
        "    return table"
      ],
      "metadata": {
        "id": "YYV0yZWG_B4D"
      },
      "execution_count": 180,
      "outputs": []
    },
    {
      "cell_type": "code",
      "source": [
        "borrow_details = borrow_details_table(is_print = True)"
      ],
      "metadata": {
        "colab": {
          "base_uri": "https://localhost:8080/"
        },
        "id": "0SM3YWj7IHtS",
        "outputId": "09bb2bf8-677f-489d-c42d-ca9f79015e1b"
      },
      "execution_count": 181,
      "outputs": [
        {
          "output_type": "stream",
          "name": "stdout",
          "text": [
            "+------+----------------------------+-------------+------------------+---------------+-------------+--------------+\n",
            "|  id  | created_date               |  borrow_id  |  book_detail_id  | return_date   |  status_id  |  created_by  |\n",
            "|------+----------------------------+-------------+------------------+---------------+-------------+--------------|\n",
            "|  1   | 2024-11-10 08:11:38.960069 |      1      |       150        |               |      2      |      1       |\n",
            "|  2   | 2024-11-10 08:11:38.960072 |      1      |       133        |               |      4      |      1       |\n",
            "|  3   | 2024-11-10 08:11:38.960073 |      2      |        58        |               |      2      |      1       |\n",
            "|  4   | 2024-11-10 08:11:38.960074 |      2      |        87        |               |      1      |      1       |\n",
            "|  5   | 2024-11-10 08:11:38.960074 |      3      |        55        |               |      5      |      1       |\n",
            "|  6   | 2024-11-10 08:11:38.960075 |      3      |       121        |               |      3      |      1       |\n",
            "|  7   | 2024-11-10 08:11:38.960076 |      4      |        60        |               |      5      |      1       |\n",
            "|  8   | 2024-11-10 08:11:38.960077 |      4      |       109        |               |      6      |      1       |\n",
            "|  9   | 2024-11-10 08:11:38.960078 |      5      |       105        |               |      6      |      1       |\n",
            "|  10  | 2024-11-10 08:11:38.960079 |      5      |        45        |               |      2      |      1       |\n",
            "|  11  | 2024-11-10 08:11:38.960080 |      6      |        43        |               |      6      |      1       |\n",
            "|  12  | 2024-11-10 08:11:38.960080 |      6      |       105        |               |      6      |      1       |\n",
            "|  13  | 2024-11-10 08:11:38.960081 |      7      |        1         |               |      6      |      1       |\n",
            "|  14  | 2024-11-10 08:11:38.960082 |      7      |        84        |               |      6      |      1       |\n",
            "|  15  | 2024-11-10 08:11:38.960083 |      8      |        83        |               |      4      |      1       |\n",
            "|  16  | 2024-11-10 08:11:38.960084 |      8      |        30        |               |      2      |      1       |\n",
            "|  17  | 2024-11-10 08:11:38.960085 |      9      |       135        |               |      5      |      1       |\n",
            "|  18  | 2024-11-10 08:11:38.960086 |      9      |        33        |               |      4      |      1       |\n",
            "|  19  | 2024-11-10 08:11:38.960086 |     10      |       147        |               |      6      |      1       |\n",
            "|  20  | 2024-11-10 08:11:38.960087 |     10      |        86        |               |      1      |      1       |\n",
            "+------+----------------------------+-------------+------------------+---------------+-------------+--------------+\n"
          ]
        }
      ]
    },
    {
      "cell_type": "code",
      "source": [
        "def book_request_table(n_data=None, is_print=None):\n",
        "    \"\"\"\n",
        "    function to create dummy data book request table\n",
        "    header:\n",
        "        - id,created_date, borrow_date, book_detail_id, user_id, status_id, is_taken,created_by\n",
        "\n",
        "    arg:\n",
        "        - n_data (int)  : number of total data\n",
        "        - is_print  (bool) : to display the result data\n",
        "\n",
        "    return:\n",
        "        - table  (list) :\n",
        "    \"\"\"\n",
        "    boolean = [True,False]\n",
        "    # Buat table\n",
        "    table = {}\n",
        "    table[\"id\"] = [i+1 for i in range(n_data)]\n",
        "    table[\"created_date\"] = [datetime.now() for i in range(n_data)]\n",
        "    table[\"book_detail_id\"] =  [random.choice(book_details['id']) for i in range(n_data)]\n",
        "    table[\"user_id\"] = [users['id'][i] for i in range(n_data)]\n",
        "    table['status_id'] = [random.choice(status_table['id']) for i in range(n_data)]\n",
        "    table['is_taken'] = [random.choice(boolean) for i in range(n_data)]\n",
        "    table[\"created_by\"] = [1 for i in range(n_data)]\n",
        "\n",
        "    # Print table\n",
        "    if is_print:\n",
        "        show_data(table)\n",
        "\n",
        "    return table"
      ],
      "metadata": {
        "id": "HXb0fH3HJgv9"
      },
      "execution_count": 182,
      "outputs": []
    },
    {
      "cell_type": "code",
      "source": [
        "book_requests = book_request_table(n_data=5,is_print = True)"
      ],
      "metadata": {
        "colab": {
          "base_uri": "https://localhost:8080/"
        },
        "id": "NOktMyXDKcAE",
        "outputId": "217f4073-00bb-4887-d85d-8c137bf7dd7c"
      },
      "execution_count": 183,
      "outputs": [
        {
          "output_type": "stream",
          "name": "stdout",
          "text": [
            "+------+----------------------------+------------------+-----------+-------------+------------+--------------+\n",
            "|  id  | created_date               |  book_detail_id  |  user_id  |  status_id  | is_taken   |  created_by  |\n",
            "|------+----------------------------+------------------+-----------+-------------+------------+--------------|\n",
            "|  1   | 2024-11-10 08:21:36.979395 |        67        |     1     |      2      | False      |      1       |\n",
            "|  2   | 2024-11-10 08:21:36.979398 |        32        |     2     |      2      | False      |      1       |\n",
            "|  3   | 2024-11-10 08:21:36.979399 |        17        |     3     |      2      | True       |      1       |\n",
            "|  4   | 2024-11-10 08:21:36.979399 |       127        |     4     |      5      | True       |      1       |\n",
            "|  5   | 2024-11-10 08:21:36.979400 |        4         |     5     |      2      | False      |      1       |\n",
            "+------+----------------------------+------------------+-----------+-------------+------------+--------------+\n"
          ]
        }
      ]
    },
    {
      "cell_type": "markdown",
      "source": [
        "## Save To CSV"
      ],
      "metadata": {
        "id": "o5GGnK1iAdXk"
      }
    },
    {
      "cell_type": "code",
      "source": [
        "import csv"
      ],
      "metadata": {
        "id": "sF0OdwzOAoes"
      },
      "execution_count": 40,
      "outputs": []
    },
    {
      "cell_type": "code",
      "source": [
        "def save_to_csv(data, file_name):\n",
        "    '''\n",
        "    function to store dummy data to csv\n",
        "\n",
        "    args:\n",
        "        - data (list)     : list of dictionary that will be convert to csv\n",
        "        - file_name (str) : name file for csv\n",
        "\n",
        "\treturn:\n",
        "\t\t- None\n",
        "    '''\n",
        "\n",
        "    # Membuat file csv\n",
        "    with open(file = f\"{file_name}.csv\", mode = 'w', newline = '') as csv_file:\n",
        "        # Membuat writer csv\n",
        "        writer = csv.writer(csv_file)\n",
        "\n",
        "        # write header csv\n",
        "        writer.writerow(list(data.keys()))\n",
        "\n",
        "        # mengetahui panjang data\n",
        "        len_data = len(list(data.items())[0][1])\n",
        "        print(users_table)\n",
        "        # write data ke file csv\n",
        "        for i in range(len_data):\n",
        "            row = []\n",
        "            for key in data.keys():\n",
        "                row.append(data[key][i])\n",
        "            writer.writerow(row)"
      ],
      "metadata": {
        "id": "3khbidE9AjlJ"
      },
      "execution_count": 44,
      "outputs": []
    },
    {
      "cell_type": "code",
      "source": [
        "# save data users to csv file\n",
        "save_to_csv(data = users,file_name = 'users_table')"
      ],
      "metadata": {
        "colab": {
          "base_uri": "https://localhost:8080/"
        },
        "id": "836Gb4LiBAYE",
        "outputId": "c5f3cdfc-4dd2-4d1e-ffba-1e7a1e52bc9c"
      },
      "execution_count": 118,
      "outputs": [
        {
          "output_type": "stream",
          "name": "stdout",
          "text": [
            "<function users_table at 0x7a431be2a3b0>\n"
          ]
        }
      ]
    },
    {
      "cell_type": "code",
      "source": [
        "# save data users to csv file\n",
        "save_to_csv(data = table_categories,file_name = 'table_categories_table')\n",
        "save_to_csv(data = publishers,file_name = 'publishers_table')\n",
        "save_to_csv(data = books,file_name = 'books_table')\n",
        "save_to_csv(data = authors,file_name = 'authors_table')\n",
        "save_to_csv(data = book_authors,file_name = 'book_authors_table')\n",
        "save_to_csv(data = status_table,file_name = 'status_table_table')\n",
        "save_to_csv(data = library,file_name = 'library_table')\n",
        "save_to_csv(data = library_books,file_name = 'library_books_table')\n",
        "save_to_csv(data = book_details,file_name = 'book_details_table')\n",
        "save_to_csv(data = borrows,file_name = 'borrows_table')\n",
        "save_to_csv(data = borrow_details,file_name = 'borrow_details_table')\n",
        "save_to_csv(data = book_requests,file_name = 'book_requests_table')"
      ],
      "metadata": {
        "colab": {
          "base_uri": "https://localhost:8080/"
        },
        "id": "_PsTKlcFL3ih",
        "outputId": "ba74a135-11d3-4fd1-e8b4-157f657c6774"
      },
      "execution_count": 186,
      "outputs": [
        {
          "output_type": "stream",
          "name": "stdout",
          "text": [
            "<function users_table at 0x7a431be2a3b0>\n",
            "<function users_table at 0x7a431be2a3b0>\n",
            "<function users_table at 0x7a431be2a3b0>\n",
            "<function users_table at 0x7a431be2a3b0>\n",
            "<function users_table at 0x7a431be2a3b0>\n",
            "<function users_table at 0x7a431be2a3b0>\n",
            "<function users_table at 0x7a431be2a3b0>\n",
            "<function users_table at 0x7a431be2a3b0>\n",
            "<function users_table at 0x7a431be2a3b0>\n",
            "<function users_table at 0x7a431be2a3b0>\n",
            "<function users_table at 0x7a431be2a3b0>\n",
            "<function users_table at 0x7a431be2a3b0>\n"
          ]
        }
      ]
    },
    {
      "cell_type": "markdown",
      "source": [],
      "metadata": {
        "id": "yKlZjDgdA_-B"
      }
    }
  ]
}